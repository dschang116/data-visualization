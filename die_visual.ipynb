{
 "cells": [
  {
   "cell_type": "code",
   "execution_count": 9,
   "metadata": {},
   "outputs": [],
   "source": [
    "from plotly.graph_objs import Bar, Layout\n",
    "from plotly import offline\n",
    "\n",
    "import import_ipynb\n",
    "from die import Die"
   ]
  },
  {
   "cell_type": "code",
   "execution_count": 12,
   "metadata": {},
   "outputs": [
    {
     "data": {
      "text/plain": [
       "'d6_d10.html'"
      ]
     },
     "execution_count": 12,
     "metadata": {},
     "output_type": "execute_result"
    }
   ],
   "source": [
    "# Create a D6 and a D10.\n",
    "die_1 = Die()\n",
    "die_2 = Die(10)\n",
    "\n",
    "# Make some rolls, and store the results in a list.\n",
    "results = []\n",
    "for roll_num in range(50_000):\n",
    "    result = die_1.roll() + die_2.roll()\n",
    "    results.append(result)\n",
    "\n",
    "# Analyze the results.\n",
    "frequencies = []\n",
    "max_result = die_1.num_sides + die_2.num_sides\n",
    "for value in range(2, max_result+1):\n",
    "    frequency = results.count(value)\n",
    "    frequencies.append(frequency)\n",
    "    \n",
    "# Visualize teh results.\n",
    "x_values = list(range(2, max_result+1))\n",
    "data = [Bar(x=x_values, y=frequencies)]\n",
    "\n",
    "x_axis_config = {'title': 'Result', 'dtick':1}\n",
    "y_axis_config = {'title': 'Frequency of Result'}\n",
    "my_layout = Layout(title='Results of rolling a D6 and a D10 50000 times', \n",
    "                  xaxis=x_axis_config,\n",
    "                  yaxis= y_axis_config)\n",
    "offline.plot({'data': data, 'layout': my_layout}, filename='d6_d10.html')"
   ]
  }
 ],
 "metadata": {
  "kernelspec": {
   "display_name": "Python 3",
   "language": "python",
   "name": "python3"
  },
  "language_info": {
   "codemirror_mode": {
    "name": "ipython",
    "version": 3
   },
   "file_extension": ".py",
   "mimetype": "text/x-python",
   "name": "python",
   "nbconvert_exporter": "python",
   "pygments_lexer": "ipython3",
   "version": "3.8.5"
  }
 },
 "nbformat": 4,
 "nbformat_minor": 4
}
