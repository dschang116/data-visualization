{
 "cells": [
  {
   "cell_type": "code",
   "execution_count": 2,
   "metadata": {},
   "outputs": [],
   "source": [
    "from random import randint"
   ]
  },
  {
   "cell_type": "code",
   "execution_count": 4,
   "metadata": {},
   "outputs": [],
   "source": [
    "class Die:\n",
    "    \"\"\"A class representing as single die.\"\"\"\n",
    "    \n",
    "    def __init__(self, num_sides=6):\n",
    "        \"\"\"Assume a six-sided die.\"\"\"\n",
    "        self.num_sides = num_sides\n",
    "        \n",
    "    def roll(self):\n",
    "        \"\"\"Return a random number between 1 and the number of sides.\"\"\"\n",
    "        return randint(1, self.num_sides)"
   ]
  },
  {
   "cell_type": "code",
   "execution_count": null,
   "metadata": {},
   "outputs": [],
   "source": []
  }
 ],
 "metadata": {
  "kernelspec": {
   "display_name": "Python 3",
   "language": "python",
   "name": "python3"
  },
  "language_info": {
   "codemirror_mode": {
    "name": "ipython",
    "version": 3
   },
   "file_extension": ".py",
   "mimetype": "text/x-python",
   "name": "python",
   "nbconvert_exporter": "python",
   "pygments_lexer": "ipython3",
   "version": "3.8.5"
  }
 },
 "nbformat": 4,
 "nbformat_minor": 4
}
